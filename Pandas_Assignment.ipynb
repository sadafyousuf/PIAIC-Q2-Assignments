{
  "nbformat": 4,
  "nbformat_minor": 0,
  "metadata": {
    "colab": {
      "name": "Pandas Assignment.ipynb",
      "provenance": [],
      "collapsed_sections": []
    },
    "kernelspec": {
      "name": "python3",
      "display_name": "Python 3"
    },
    "language_info": {
      "name": "python"
    }
  },
  "cells": [
    {
      "cell_type": "code",
      "metadata": {
        "id": "KRJO-O8rXzqQ"
      },
      "source": [
        "import glob\n",
        "import re\n",
        "import pandas as pd\n",
        "import numpy as np\n",
        "import matplotlib.pyplot as plt"
      ],
      "execution_count": null,
      "outputs": []
    },
    {
      "cell_type": "code",
      "metadata": {
        "id": "fMrsNfWSX8pJ"
      },
      "source": [
        "# reading csv from dataset\n",
        "state0 = pd.read_csv('dataset/states0.csv', encoding='utf-8', index_col=0)\n",
        "state0"
      ],
      "execution_count": null,
      "outputs": []
    },
    {
      "cell_type": "code",
      "metadata": {
        "id": "b5lfUACaYCrZ"
      },
      "source": [
        "# splitting male and female population from GenderPop column\n",
        "state0[['MalePop', 'FemalePop']] = state0['GenderPop'].str.split('_',expand=True)\n",
        " \n",
        "# replacing 'str' characters from Income, MalePop and FemalePop column\n",
        "state0 = state0.replace({'Income': {'\\$': ''},\n",
        "                         'MalePop': {'M': ''},\n",
        "                         'FemalePop': {'F': ''}}, regex=True)\n",
        " \n",
        "# changing data type\n",
        "state0[['Income', 'MalePop', 'FemalePop']] = state0[['Income', 'MalePop', 'FemalePop']].apply(pd.to_numeric)\n",
        "state0\n",
        " \n",
        "# scatter plot of average income vs female population in the state\n",
        "state0.plot.scatter('FemalePop', 'Income')"
      ],
      "execution_count": null,
      "outputs": []
    },
    {
      "cell_type": "code",
      "metadata": {
        "id": "pMD_BCMFYKp6"
      },
      "source": [
        "# reading csv from dataset\n",
        "state1 = pd.read_csv('dataset/states1.csv', encoding='utf-8', index_col=0)\n",
        "state1"
      ],
      "execution_count": null,
      "outputs": []
    },
    {
      "cell_type": "code",
      "metadata": {
        "id": "YMd5guL2YQ94"
      },
      "source": [
        "# splitting male and female population from GenderPop column\n",
        "state1[['MalePop', 'FemalePop']] = state1['GenderPop'].str.split('_',expand=True)\n",
        " \n",
        "# replacing 'str' characters from Income, MalePop and FemalePop column\n",
        "state1 = state1.replace({'Income': {'\\$': ''},\n",
        "                         'MalePop': {'M': ''},\n",
        "                         'FemalePop': {'F': ''}}, regex=True)\n",
        " \n",
        "# changing data type\n",
        "state1[['Income', 'MalePop', 'FemalePop']] = state1[['Income', 'MalePop', 'FemalePop']].apply(pd.to_numeric)\n",
        "state1\n",
        " \n",
        "# scatter plot average income vs female population in the state\n",
        "state1.plot.scatter('FemalePop', 'Income')"
      ],
      "execution_count": null,
      "outputs": []
    },
    {
      "cell_type": "code",
      "metadata": {
        "id": "yIw14nzIYXeL"
      },
      "source": [
        "# importing all states files and concatenate them to form a DataFrame using glob module,\n",
        "# https://medium.com/@kadek/elegantly-reading-multiple-csvs-into-pandas-e1a76843b688\n",
        "all_files = glob.glob(\"dataset/states?.csv\")\n",
        "us_census = pd.concat((pd.read_csv(f, encoding='utf-8', index_col=0) for f in all_files),\n",
        "                      ignore_index=True)"
      ],
      "execution_count": null,
      "outputs": []
    },
    {
      "cell_type": "code",
      "metadata": {
        "id": "I4INa44TYdM2"
      },
      "source": [
        "# column names\n",
        "display(us_census.columns)\n",
        "\n",
        "# columns datatype\n",
        "display(us_census.dtypes)\n"
      ],
      "execution_count": null,
      "outputs": []
    },
    {
      "cell_type": "code",
      "metadata": {
        "id": "cKMzkjwtY34Y"
      },
      "source": [
        "us_census.head()\n"
      ],
      "execution_count": null,
      "outputs": []
    },
    {
      "cell_type": "code",
      "metadata": {
        "id": "IgSs_SHFY84R"
      },
      "source": [
        "# replacing '$' from Income and converting its data type to numerical type\n",
        "us_census['Income'] = us_census['Income'].replace({'\\$':''}, regex = True).apply(pd.to_numeric)\n",
        "us_census.dtypes\n"
      ],
      "execution_count": null,
      "outputs": []
    },
    {
      "cell_type": "code",
      "metadata": {
        "id": "1bjjmf0laf_2"
      },
      "source": [
        "# splitting GenderPop column into MalePop and FemalePop columns\n",
        "us_census[['MalePop', 'FemalePop']] = us_census['GenderPop'].str.split('_',expand=True)\n"
      ],
      "execution_count": null,
      "outputs": []
    },
    {
      "cell_type": "code",
      "metadata": {
        "id": "NZJvbCwhalLE"
      },
      "source": [
        "# replacing 'M' and 'F' character with empty string\n",
        "us_census = us_census.replace({'MalePop': {'M': ''},\n",
        "                               'FemalePop': {'F': ''}}, regex=True)\n",
        "\n",
        "# converting the dtype into numeric\n",
        "us_census[['MalePop', 'FemalePop']] = us_census[['MalePop', 'FemalePop']].apply(pd.to_numeric)\n",
        "us_census.dtypes\n"
      ],
      "execution_count": null,
      "outputs": []
    },
    {
      "cell_type": "code",
      "metadata": {
        "id": "2aFKec3UarcN"
      },
      "source": [
        "# scatter plot with NaN values in 'FemalePop' column\n",
        "the_women_column  = us_census['FemalePop']\n",
        "the_income_column = us_census['Income']\n",
        "\n",
        "plt.xlabel('FemalePop')\n",
        "plt.ylabel('Income')\n",
        "plt.scatter(x=the_women_column, y=the_income_column, c='purple')\n",
        "plt.show()\n"
      ],
      "execution_count": null,
      "outputs": []
    },
    {
      "cell_type": "code",
      "metadata": {
        "id": "-7MSS6gVb4Rb"
      },
      "source": [
        "# counting the number of NaN values in FemalePop\n",
        "us_census['FemalePop'].isnull().sum()\n"
      ],
      "execution_count": null,
      "outputs": []
    },
    {
      "cell_type": "code",
      "metadata": {
        "id": "6Bf49MNfcBub"
      },
      "source": [
        "# taking the estimated women population per state\n",
        "est_women = us_census.TotalPop - us_census.MalePop\n",
        "us_census['FemalePop'].fillna(est_women, inplace=True)\n",
        "\n",
        "# checking if there is still any NaN value in the column\n",
        "us_census['FemalePop'].isnull().sum()\n"
      ],
      "execution_count": null,
      "outputs": []
    },
    {
      "cell_type": "code",
      "metadata": {
        "id": "00c_tj6TcKZP"
      },
      "source": [
        "# displaying FemalePop column after filling NaN values\n",
        "us_census.FemalePop\n"
      ],
      "execution_count": null,
      "outputs": []
    },
    {
      "cell_type": "code",
      "metadata": {
        "id": "sO_9MN-_cOM-"
      },
      "source": [
        "# number of duplicates in us_census\n",
        "us_census.duplicated().sum()\n"
      ],
      "execution_count": null,
      "outputs": []
    },
    {
      "cell_type": "code",
      "metadata": {
        "id": "oSWf30XVcVyB"
      },
      "source": [
        "# duplicate rows in us_census\n",
        "us_census[us_census.duplicated()]\n"
      ],
      "execution_count": null,
      "outputs": []
    },
    {
      "cell_type": "code",
      "metadata": {
        "id": "tOQ7r_vtca-r"
      },
      "source": [
        "# dropping duplicates rows in us_census\n",
        "us_census.drop_duplicates(inplace=True)\n"
      ],
      "execution_count": null,
      "outputs": []
    },
    {
      "cell_type": "code",
      "metadata": {
        "id": "8coYDgoPdDxB"
      },
      "source": [
        "# checking duplicates again\n",
        "us_census.duplicated().sum()\n"
      ],
      "execution_count": null,
      "outputs": []
    },
    {
      "cell_type": "code",
      "metadata": {
        "id": "O1sGNZBlcf_O"
      },
      "source": [
        "the_women_column  = us_census['FemalePop']\n",
        "the_income_column = us_census['Income']\n",
        "\n",
        "plt.xlabel('FemalePop')\n",
        "plt.ylabel('Income')\n",
        "plt.scatter(x=the_women_column, y=the_income_column, c='blue')\n",
        "plt.show()\n"
      ],
      "execution_count": null,
      "outputs": []
    },
    {
      "cell_type": "code",
      "metadata": {
        "id": "7Tt-UeSKdFeo"
      },
      "source": [
        "us_census.columns\n"
      ],
      "execution_count": null,
      "outputs": []
    },
    {
      "cell_type": "code",
      "metadata": {
        "id": "jJOneP7jdK0Z"
      },
      "source": [
        "# removing '%' from the race columns\n",
        "us_census = us_census.replace({'Hispanic': {'%': ''},\n",
        "                               'White': {'%': ''},\n",
        "                               'Black': {'%': ''},\n",
        "                               'Native': {'%': ''},\n",
        "                               'Asian': {'%': ''},\n",
        "                               'Pacific': {'%': ''}}, regex=True)\n"
      ],
      "execution_count": null,
      "outputs": []
    },
    {
      "cell_type": "code",
      "metadata": {
        "id": "QYDD8L4ZdQhA"
      },
      "source": [
        "# converting race columns data type into numeric format\n",
        "race_cols = ['Hispanic', 'White', 'Black', 'Native', 'Asian', 'Pacific']\n",
        "us_census[race_cols] = us_census[race_cols].apply(pd.to_numeric)\n",
        "us_census.dtypes\n"
      ],
      "execution_count": null,
      "outputs": []
    },
    {
      "cell_type": "code",
      "metadata": {
        "id": "Jq1z9ezMdV7C"
      },
      "source": [
        "# finding number of NaN values in race_cols\n",
        "us_census[race_cols].isnull().sum()\n"
      ],
      "execution_count": null,
      "outputs": []
    },
    {
      "cell_type": "code",
      "metadata": {
        "id": "Vyjam3ZQdbi3"
      },
      "source": [
        "# taking the estimated Pacific population per state\n",
        "est_pacific = 100 + (us_census['Hispanic'] - us_census['Black'] - us_census['White']\\\n",
        "                     - us_census['Asian'] - us_census['Native'])\n",
        "\n",
        "# filling missing value with estimated pacific population\n",
        "us_census['Pacific'].fillna(est_pacific, inplace=True)\n"
      ],
      "execution_count": null,
      "outputs": []
    },
    {
      "cell_type": "code",
      "metadata": {
        "id": "CQVmobwydfoz"
      },
      "source": [
        "# finding duplicates if there is any\n",
        "us_census.duplicated().sum()\n"
      ],
      "execution_count": null,
      "outputs": []
    },
    {
      "cell_type": "code",
      "metadata": {
        "id": "6gCF0_-Gdltz"
      },
      "source": [
        "# histogram graph for the all races per state\n",
        "plt.style.use('fivethirtyeight')\n",
        "\n",
        "hispanicPop = us_census['Hispanic']\n",
        "whitePop = us_census['White']\n",
        "blackPop = us_census['Black']\n",
        "nativePop = us_census['Native']\n",
        "asianPop = us_census['Asian']\n",
        "pacificPop = us_census['Pacific']\n",
        "\n",
        "mybins = [0, 10, 20, 30, 40, 50, 60, 70, 80, 90, 100]\n",
        "\n",
        "plt.hist([hispanicPop, whitePop, blackPop, nativePop, asianPop, pacificPop],\n",
        "         color=['grey', 'red', 'yellow', 'green', 'blue', 'purple'],\n",
        "         label=['Hispanic', 'White', 'Black', 'Native', 'Asian', 'Pacific'],\n",
        "         bins=mybins, edgecolor='black')\n",
        "\n",
        "plt.title('Distribution of Races in US States')\n",
        "plt.legend(loc='best')\n",
        "plt.xlabel('Races')\n",
        "plt.ylabel('Count')\n",
        "plt.show()\n"
      ],
      "execution_count": null,
      "outputs": []
    },
    {
      "cell_type": "code",
      "metadata": {
        "id": "ZbsqY45qdzLR"
      },
      "source": [
        "# finding state that has max population\n",
        "us_census[us_census.TotalPop == us_census.TotalPop.max()]\n"
      ],
      "execution_count": null,
      "outputs": []
    },
    {
      "cell_type": "code",
      "metadata": {
        "id": "DvqVVWAmd4s1"
      },
      "source": [
        "# finding state that has min population\n",
        "us_census[us_census.TotalPop == us_census.TotalPop.min()]\n"
      ],
      "execution_count": null,
      "outputs": []
    },
    {
      "cell_type": "code",
      "metadata": {
        "id": "zR77VwfRd85x"
      },
      "source": [
        "# assigning 'State' and 'TotalPop' columns to the variables\n",
        "name = us_census['State']\n",
        "pop = us_census['TotalPop'] \n",
        "  \n",
        "# figure Size \n",
        "fig, ax = plt.subplots(figsize =(6, 20)) \n",
        "  \n",
        "# horizontal Bar Plot \n",
        "ax.barh(name, pop) \n",
        "  \n",
        "# remove axes splines \n",
        "for s in ['top', 'bottom', 'left', 'right']: \n",
        "    ax.spines[s].set_visible(False) \n",
        "\n",
        "# remove x, y Ticks\n",
        "ax.xaxis.set_ticks_position('none') \n",
        "ax.yaxis.set_ticks_position('none') \n",
        "  \n",
        "# add padding between axes and labels \n",
        "ax.xaxis.set_tick_params(pad = 5) \n",
        "ax.yaxis.set_tick_params(pad = 10) \n",
        "  \n",
        "# add x, y gridlines \n",
        "ax.grid(b = True, color ='grey', \n",
        "        linestyle ='-.', linewidth = 0.5, \n",
        "        alpha = 0.2) \n",
        "  \n",
        "# show top values  \n",
        "ax.invert_yaxis() \n",
        "  \n",
        "# add explanation to bars \n",
        "for i in ax.patches: \n",
        "    plt.text(i.get_width()+0.2, i.get_y()+0.5,  \n",
        "             str(round((i.get_width()), 2)), \n",
        "             fontsize = 10, fontweight ='bold', \n",
        "             color ='grey') \n",
        "\n",
        "# add title\n",
        "ax.set_title('US Population in Each State', \n",
        "             loc ='left')\n",
        "\n",
        "# add x-xis label\n",
        "ax.set_xlabel('Population\\n(million)')\n",
        "\n",
        "# show Plot \n",
        "plt.show()\n"
      ],
      "execution_count": null,
      "outputs": []
    },
    {
      "cell_type": "code",
      "metadata": {
        "id": "ydPZJ3zdeMtK"
      },
      "source": [
        "inventory = pd.read_csv('dataset/inventory.csv')\n"
      ],
      "execution_count": null,
      "outputs": []
    },
    {
      "cell_type": "code",
      "metadata": {
        "id": "O2WHVKEJeWBw"
      },
      "source": [
        "inventory.head(10)\n"
      ],
      "execution_count": null,
      "outputs": []
    },
    {
      "cell_type": "code",
      "metadata": {
        "id": "Q3vw1LHQeaLL"
      },
      "source": [
        "staten_island = inventory.loc[0:9,:]\n",
        "staten_island"
      ],
      "execution_count": null,
      "outputs": []
    },
    {
      "cell_type": "code",
      "metadata": {
        "id": "tAjC0J1kegfU"
      },
      "source": [
        "product_request = staten_island.loc[0:9,'product_description']\n",
        "product_request\n"
      ],
      "execution_count": null,
      "outputs": []
    },
    {
      "cell_type": "code",
      "metadata": {
        "id": "dP0dVveAelGG"
      },
      "source": [
        "inventory.head()\n"
      ],
      "execution_count": null,
      "outputs": []
    },
    {
      "cell_type": "code",
      "metadata": {
        "id": "AaNq1JCVep7l"
      },
      "source": [
        "seed_request = inventory.loc[(inventory['location']=='Brooklyn') &\n",
        "                             (inventory['product_type']=='seeds')]\n",
        "seed_request\n"
      ],
      "execution_count": null,
      "outputs": []
    },
    {
      "cell_type": "code",
      "metadata": {
        "id": "DM8j2MEFeuxZ"
      },
      "source": [
        "inventory['in_stock'] = np.where(inventory['quantity']==0, False, True)\n",
        "inventory.head()\n"
      ],
      "execution_count": null,
      "outputs": []
    },
    {
      "cell_type": "code",
      "metadata": {
        "id": "w7vW7x1he-fu"
      },
      "source": [
        "inventory['total_value'] = inventory['price'] * inventory['quantity']\n",
        "inventory.head()\n"
      ],
      "execution_count": null,
      "outputs": []
    },
    {
      "cell_type": "code",
      "metadata": {
        "id": "-_jwdkc8fE7G"
      },
      "source": [
        "combine_lambda = lambda row:'{}-{}'.format(row.product_type, row.product_description)\n",
        "combine_lambda\n"
      ],
      "execution_count": null,
      "outputs": []
    },
    {
      "cell_type": "code",
      "metadata": {
        "id": "quBXvQS6fKRO"
      },
      "source": [
        "inventory['full_description'] = inventory[['product_type', 'product_description']].apply(combine_lambda, axis=1)\n",
        "inventory.head()\n"
      ],
      "execution_count": null,
      "outputs": []
    }
  ]
}